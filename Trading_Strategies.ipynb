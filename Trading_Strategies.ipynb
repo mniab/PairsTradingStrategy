{
  "nbformat": 4,
  "nbformat_minor": 0,
  "metadata": {
    "colab": {
      "name": "Trading Strategies.ipynb",
      "provenance": [],
      "collapsed_sections": [],
      "include_colab_link": true
    },
    "kernelspec": {
      "name": "python3",
      "display_name": "Python 3"
    },
    "language_info": {
      "name": "python"
    }
  },
  "cells": [
    {
      "cell_type": "markdown",
      "metadata": {
        "id": "view-in-github",
        "colab_type": "text"
      },
      "source": [
        "<a href=\"https://colab.research.google.com/github/mniab/PairsTradingStrategy/blob/main/Trading_Strategies.ipynb\" target=\"_parent\"><img src=\"https://colab.research.google.com/assets/colab-badge.svg\" alt=\"Open In Colab\"/></a>"
      ]
    },
    {
      "cell_type": "markdown",
      "metadata": {
        "id": "PqVt5nHexUGX"
      },
      "source": [
        "# Trading Strategies"
      ]
    },
    {
      "cell_type": "code",
      "metadata": {
        "id": "8uo1l49NKWNe",
        "colab": {
          "base_uri": "https://localhost:8080/"
        },
        "outputId": "cb6187f0-5793-4d82-e81b-052c16e6e83d"
      },
      "source": [
        "!pip install yfinance"
      ],
      "execution_count": null,
      "outputs": [
        {
          "output_type": "stream",
          "text": [
            "Requirement already satisfied: yfinance in /usr/local/lib/python3.7/dist-packages (0.1.63)\n",
            "Requirement already satisfied: pandas>=0.24 in /usr/local/lib/python3.7/dist-packages (from yfinance) (1.1.5)\n",
            "Requirement already satisfied: requests>=2.20 in /usr/local/lib/python3.7/dist-packages (from yfinance) (2.23.0)\n",
            "Requirement already satisfied: lxml>=4.5.1 in /usr/local/lib/python3.7/dist-packages (from yfinance) (4.6.3)\n",
            "Requirement already satisfied: multitasking>=0.0.7 in /usr/local/lib/python3.7/dist-packages (from yfinance) (0.0.9)\n",
            "Requirement already satisfied: numpy>=1.15 in /usr/local/lib/python3.7/dist-packages (from yfinance) (1.19.5)\n",
            "Requirement already satisfied: python-dateutil>=2.7.3 in /usr/local/lib/python3.7/dist-packages (from pandas>=0.24->yfinance) (2.8.1)\n",
            "Requirement already satisfied: pytz>=2017.2 in /usr/local/lib/python3.7/dist-packages (from pandas>=0.24->yfinance) (2018.9)\n",
            "Requirement already satisfied: certifi>=2017.4.17 in /usr/local/lib/python3.7/dist-packages (from requests>=2.20->yfinance) (2021.5.30)\n",
            "Requirement already satisfied: urllib3!=1.25.0,!=1.25.1,<1.26,>=1.21.1 in /usr/local/lib/python3.7/dist-packages (from requests>=2.20->yfinance) (1.24.3)\n",
            "Requirement already satisfied: idna<3,>=2.5 in /usr/local/lib/python3.7/dist-packages (from requests>=2.20->yfinance) (2.10)\n",
            "Requirement already satisfied: chardet<4,>=3.0.2 in /usr/local/lib/python3.7/dist-packages (from requests>=2.20->yfinance) (3.0.4)\n",
            "Requirement already satisfied: six>=1.5 in /usr/local/lib/python3.7/dist-packages (from python-dateutil>=2.7.3->pandas>=0.24->yfinance) (1.15.0)\n"
          ],
          "name": "stdout"
        }
      ]
    },
    {
      "cell_type": "code",
      "metadata": {
        "id": "MSTYApMCyice"
      },
      "source": [
        "# import the libraries\n",
        "\n",
        "import numpy as np\n",
        "import pandas as pd\n",
        "import statsmodels\n",
        "from sklearn.linear_model import LinearRegression\n",
        "from statsmodels.tsa.stattools import coint   \n",
        "import matplotlib.pyplot as plt\n",
        "from pandas_datareader import data as pdr\n",
        "import datetime\n",
        "from functools import cmp_to_key\n",
        "import yfinance as yf"
      ],
      "execution_count": null,
      "outputs": []
    },
    {
      "cell_type": "markdown",
      "metadata": {
        "id": "Sdom93KbvTDH"
      },
      "source": [
        "#Pairs Formation Period\n",
        "\n",
        "We download the stock prices data from year 2011-2017 and use them to form the pairs with least Euclidean Distance (for the Distance Approach) and with the least p_value (for Cointegrated Approach). "
      ]
    },
    {
      "cell_type": "code",
      "metadata": {
        "id": "uVuSQsSzysY3"
      },
      "source": [
        "# predefined functions in this cell ,  no need to chagne them\n",
        "\n",
        "def downloadStockData(tickers,start,end):\n",
        "    \"\"\"\n",
        "        This function downloads the Close price of the stock and creates a dataframe from it\n",
        "        Params:\n",
        "            tickers : a list of ticker of various stocks\n",
        "            start   : it is the start date of the data to be downloaded. It is a datetime in datetime format.\n",
        "            end     : it is the end date of the data to be downloaded. It is a datetime in datetime format.\n",
        "\n",
        "        Return:\n",
        "            A dataframe with all the close for of each stock on each open market day\n",
        "    \"\"\"\n",
        "    ticker_data = yf.download(tickers, start, end)['Adj Close']\n",
        "    return ticker_data\n"
      ],
      "execution_count": null,
      "outputs": []
    },
    {
      "cell_type": "code",
      "metadata": {
        "id": "Pk65BdaDyvQo",
        "colab": {
          "base_uri": "https://localhost:8080/"
        },
        "outputId": "aecc24e8-32e0-4769-eb97-a6a6450d937a"
      },
      "source": [
        "tickers = ['HD', 'DIS','MSFT', 'BA', 'MMM', 'PFE', 'NKE', 'JNJ', 'MCD', 'XOM', 'GS', 'JPM', 'AXP', 'V', 'IBM', 'UNH', 'PG', 'GE', 'KO', 'CSCO', 'CVX', 'CAT', 'MRK', 'WMT', 'VZ', 'RTX', 'TRV', 'AAPL', 'ADBE', 'EBAY', 'QCOM', 'HPQ', 'JNPR', 'AMD']\n",
        "start = datetime.datetime(2011,1,1)\n",
        "end = datetime.datetime(2017,1,1)\n",
        "data = downloadStockData(tickers,start,end)"
      ],
      "execution_count": null,
      "outputs": [
        {
          "output_type": "stream",
          "text": [
            "[*********************100%***********************]  34 of 34 completed\n"
          ],
          "name": "stdout"
        }
      ]
    },
    {
      "cell_type": "code",
      "metadata": {
        "id": "7A-CWlCCKeNO",
        "colab": {
          "base_uri": "https://localhost:8080/",
          "height": 422
        },
        "outputId": "a7383efa-f2c4-419a-8c75-7205457b251d"
      },
      "source": [
        "data.head(5)"
      ],
      "execution_count": null,
      "outputs": [
        {
          "output_type": "execute_result",
          "data": {
            "text/html": [
              "<div>\n",
              "<style scoped>\n",
              "    .dataframe tbody tr th:only-of-type {\n",
              "        vertical-align: middle;\n",
              "    }\n",
              "\n",
              "    .dataframe tbody tr th {\n",
              "        vertical-align: top;\n",
              "    }\n",
              "\n",
              "    .dataframe thead th {\n",
              "        text-align: right;\n",
              "    }\n",
              "</style>\n",
              "<table border=\"1\" class=\"dataframe\">\n",
              "  <thead>\n",
              "    <tr style=\"text-align: right;\">\n",
              "      <th></th>\n",
              "      <th>AAPL</th>\n",
              "      <th>ADBE</th>\n",
              "      <th>AMD</th>\n",
              "      <th>AXP</th>\n",
              "      <th>BA</th>\n",
              "      <th>CAT</th>\n",
              "      <th>CSCO</th>\n",
              "      <th>CVX</th>\n",
              "      <th>DIS</th>\n",
              "      <th>EBAY</th>\n",
              "      <th>GE</th>\n",
              "      <th>GS</th>\n",
              "      <th>HD</th>\n",
              "      <th>HPQ</th>\n",
              "      <th>IBM</th>\n",
              "      <th>JNJ</th>\n",
              "      <th>JNPR</th>\n",
              "      <th>JPM</th>\n",
              "      <th>KO</th>\n",
              "      <th>MCD</th>\n",
              "      <th>MMM</th>\n",
              "      <th>MRK</th>\n",
              "      <th>MSFT</th>\n",
              "      <th>NKE</th>\n",
              "      <th>PFE</th>\n",
              "      <th>PG</th>\n",
              "      <th>QCOM</th>\n",
              "      <th>RTX</th>\n",
              "      <th>TRV</th>\n",
              "      <th>UNH</th>\n",
              "      <th>V</th>\n",
              "      <th>VZ</th>\n",
              "      <th>WMT</th>\n",
              "      <th>XOM</th>\n",
              "    </tr>\n",
              "    <tr>\n",
              "      <th>Date</th>\n",
              "      <th></th>\n",
              "      <th></th>\n",
              "      <th></th>\n",
              "      <th></th>\n",
              "      <th></th>\n",
              "      <th></th>\n",
              "      <th></th>\n",
              "      <th></th>\n",
              "      <th></th>\n",
              "      <th></th>\n",
              "      <th></th>\n",
              "      <th></th>\n",
              "      <th></th>\n",
              "      <th></th>\n",
              "      <th></th>\n",
              "      <th></th>\n",
              "      <th></th>\n",
              "      <th></th>\n",
              "      <th></th>\n",
              "      <th></th>\n",
              "      <th></th>\n",
              "      <th></th>\n",
              "      <th></th>\n",
              "      <th></th>\n",
              "      <th></th>\n",
              "      <th></th>\n",
              "      <th></th>\n",
              "      <th></th>\n",
              "      <th></th>\n",
              "      <th></th>\n",
              "      <th></th>\n",
              "      <th></th>\n",
              "      <th></th>\n",
              "      <th></th>\n",
              "    </tr>\n",
              "  </thead>\n",
              "  <tbody>\n",
              "    <tr>\n",
              "      <th>2011-01-03</th>\n",
              "      <td>10.121364</td>\n",
              "      <td>31.290001</td>\n",
              "      <td>8.47</td>\n",
              "      <td>37.053566</td>\n",
              "      <td>53.034519</td>\n",
              "      <td>70.555496</td>\n",
              "      <td>15.108664</td>\n",
              "      <td>60.560432</td>\n",
              "      <td>33.302662</td>\n",
              "      <td>11.650193</td>\n",
              "      <td>13.363601</td>\n",
              "      <td>147.410355</td>\n",
              "      <td>27.752161</td>\n",
              "      <td>14.596128</td>\n",
              "      <td>103.839554</td>\n",
              "      <td>46.264698</td>\n",
              "      <td>31.679735</td>\n",
              "      <td>32.570312</td>\n",
              "      <td>23.526991</td>\n",
              "      <td>56.616985</td>\n",
              "      <td>65.234962</td>\n",
              "      <td>24.124914</td>\n",
              "      <td>22.143803</td>\n",
              "      <td>18.973982</td>\n",
              "      <td>11.382956</td>\n",
              "      <td>46.969040</td>\n",
              "      <td>37.678238</td>\n",
              "      <td>38.681416</td>\n",
              "      <td>43.204128</td>\n",
              "      <td>31.579218</td>\n",
              "      <td>16.358353</td>\n",
              "      <td>22.311430</td>\n",
              "      <td>42.486691</td>\n",
              "      <td>49.738258</td>\n",
              "    </tr>\n",
              "    <tr>\n",
              "      <th>2011-01-04</th>\n",
              "      <td>10.174186</td>\n",
              "      <td>31.510000</td>\n",
              "      <td>8.77</td>\n",
              "      <td>37.523151</td>\n",
              "      <td>53.465816</td>\n",
              "      <td>70.225761</td>\n",
              "      <td>15.130785</td>\n",
              "      <td>60.336464</td>\n",
              "      <td>34.332928</td>\n",
              "      <td>11.564886</td>\n",
              "      <td>13.604854</td>\n",
              "      <td>147.435974</td>\n",
              "      <td>27.249155</td>\n",
              "      <td>14.900073</td>\n",
              "      <td>103.952209</td>\n",
              "      <td>46.655025</td>\n",
              "      <td>31.611683</td>\n",
              "      <td>33.041683</td>\n",
              "      <td>23.039997</td>\n",
              "      <td>54.924381</td>\n",
              "      <td>65.144775</td>\n",
              "      <td>24.332428</td>\n",
              "      <td>22.230862</td>\n",
              "      <td>18.506742</td>\n",
              "      <td>11.582543</td>\n",
              "      <td>47.099556</td>\n",
              "      <td>38.271427</td>\n",
              "      <td>38.745079</td>\n",
              "      <td>43.010635</td>\n",
              "      <td>31.868374</td>\n",
              "      <td>16.376905</td>\n",
              "      <td>22.758516</td>\n",
              "      <td>42.650211</td>\n",
              "      <td>49.971779</td>\n",
              "    </tr>\n",
              "    <tr>\n",
              "      <th>2011-01-05</th>\n",
              "      <td>10.257413</td>\n",
              "      <td>32.220001</td>\n",
              "      <td>8.91</td>\n",
              "      <td>38.611893</td>\n",
              "      <td>53.897121</td>\n",
              "      <td>70.832756</td>\n",
              "      <td>15.315130</td>\n",
              "      <td>60.231094</td>\n",
              "      <td>35.187054</td>\n",
              "      <td>11.670504</td>\n",
              "      <td>13.626779</td>\n",
              "      <td>148.219635</td>\n",
              "      <td>27.162695</td>\n",
              "      <td>15.094730</td>\n",
              "      <td>103.536774</td>\n",
              "      <td>46.625572</td>\n",
              "      <td>32.224182</td>\n",
              "      <td>33.445736</td>\n",
              "      <td>22.902920</td>\n",
              "      <td>55.183079</td>\n",
              "      <td>65.144775</td>\n",
              "      <td>24.472992</td>\n",
              "      <td>22.159628</td>\n",
              "      <td>18.627964</td>\n",
              "      <td>11.659802</td>\n",
              "      <td>46.990795</td>\n",
              "      <td>39.067345</td>\n",
              "      <td>38.798927</td>\n",
              "      <td>42.755219</td>\n",
              "      <td>31.970446</td>\n",
              "      <td>16.722530</td>\n",
              "      <td>23.070860</td>\n",
              "      <td>42.369881</td>\n",
              "      <td>49.838333</td>\n",
              "    </tr>\n",
              "    <tr>\n",
              "      <th>2011-01-06</th>\n",
              "      <td>10.249121</td>\n",
              "      <td>32.270000</td>\n",
              "      <td>8.69</td>\n",
              "      <td>38.346146</td>\n",
              "      <td>54.951427</td>\n",
              "      <td>70.098366</td>\n",
              "      <td>15.447851</td>\n",
              "      <td>59.737068</td>\n",
              "      <td>34.914082</td>\n",
              "      <td>11.544577</td>\n",
              "      <td>13.568295</td>\n",
              "      <td>146.694839</td>\n",
              "      <td>27.052656</td>\n",
              "      <td>15.326963</td>\n",
              "      <td>104.670395</td>\n",
              "      <td>46.551922</td>\n",
              "      <td>32.504902</td>\n",
              "      <td>33.281132</td>\n",
              "      <td>22.736982</td>\n",
              "      <td>54.850475</td>\n",
              "      <td>64.746407</td>\n",
              "      <td>24.807693</td>\n",
              "      <td>22.808588</td>\n",
              "      <td>18.460466</td>\n",
              "      <td>11.704867</td>\n",
              "      <td>46.911018</td>\n",
              "      <td>39.547890</td>\n",
              "      <td>38.759762</td>\n",
              "      <td>42.097328</td>\n",
              "      <td>32.633835</td>\n",
              "      <td>16.973059</td>\n",
              "      <td>22.480158</td>\n",
              "      <td>42.019444</td>\n",
              "      <td>50.158588</td>\n",
              "    </tr>\n",
              "    <tr>\n",
              "      <th>2011-01-07</th>\n",
              "      <td>10.322517</td>\n",
              "      <td>32.040001</td>\n",
              "      <td>8.83</td>\n",
              "      <td>38.028946</td>\n",
              "      <td>55.414692</td>\n",
              "      <td>70.240730</td>\n",
              "      <td>15.462597</td>\n",
              "      <td>60.066410</td>\n",
              "      <td>34.737968</td>\n",
              "      <td>11.252103</td>\n",
              "      <td>13.473257</td>\n",
              "      <td>145.400024</td>\n",
              "      <td>27.021229</td>\n",
              "      <td>15.398674</td>\n",
              "      <td>104.156418</td>\n",
              "      <td>46.102676</td>\n",
              "      <td>31.977488</td>\n",
              "      <td>32.652607</td>\n",
              "      <td>22.697302</td>\n",
              "      <td>54.968742</td>\n",
              "      <td>64.814056</td>\n",
              "      <td>25.001818</td>\n",
              "      <td>22.634483</td>\n",
              "      <td>18.409769</td>\n",
              "      <td>11.807885</td>\n",
              "      <td>46.773239</td>\n",
              "      <td>38.842075</td>\n",
              "      <td>38.725502</td>\n",
              "      <td>41.276901</td>\n",
              "      <td>32.701866</td>\n",
              "      <td>16.924347</td>\n",
              "      <td>22.294006</td>\n",
              "      <td>42.112896</td>\n",
              "      <td>50.432137</td>\n",
              "    </tr>\n",
              "  </tbody>\n",
              "</table>\n",
              "</div>"
            ],
            "text/plain": [
              "                 AAPL       ADBE   AMD  ...         VZ        WMT        XOM\n",
              "Date                                    ...                                 \n",
              "2011-01-03  10.121364  31.290001  8.47  ...  22.311430  42.486691  49.738258\n",
              "2011-01-04  10.174186  31.510000  8.77  ...  22.758516  42.650211  49.971779\n",
              "2011-01-05  10.257413  32.220001  8.91  ...  23.070860  42.369881  49.838333\n",
              "2011-01-06  10.249121  32.270000  8.69  ...  22.480158  42.019444  50.158588\n",
              "2011-01-07  10.322517  32.040001  8.83  ...  22.294006  42.112896  50.432137\n",
              "\n",
              "[5 rows x 34 columns]"
            ]
          },
          "metadata": {
            "tags": []
          },
          "execution_count": 124
        }
      ]
    },
    {
      "cell_type": "markdown",
      "metadata": {
        "id": "HyjpuKx4S6gf"
      },
      "source": [
        "In all the below functions we will do the trade on the similar stocks based upon different strategy which revolve around the central idea of pairs trading strategy. "
      ]
    },
    {
      "cell_type": "code",
      "metadata": {
        "id": "1_ioBpkRu0RX"
      },
      "source": [
        "def normalize(x):\n",
        "  return (x-x.mean())/x.std()"
      ],
      "execution_count": null,
      "outputs": []
    },
    {
      "cell_type": "code",
      "metadata": {
        "id": "dnrTijpdy0L5"
      },
      "source": [
        "def trade1(S1, S2, window ,MAX_SHORTING_AMOUNT=10000, MAX_TRANSACTION_AT_A_TIME=5,c1=1,c2=0.75):\n",
        "    \"\"\"\n",
        "        This functions performs the trading according to the following strategy\n",
        "            For the distance approach , we will use the mean and standard deviation . If the ratio(Y/X) between the time series at any point becomes such that it is greater \n",
        "            than the mean+c_1*standard deviation  we will short the stock Y and go for long X and square off whenever the ratio becomes less than   mean+ c_2*standard deviation, \n",
        "            where c1 and c2 are constant here ,  like c_1=1, c_1=0.5 ,etc. Note c_1>c_2 If the ratio becomes less than the mean - c1*standard deviation , we will follow the reverse strategy .\n",
        "        Params: \n",
        "            data1                     : Time series data of stock 1\n",
        "            data2                     : Time series data of stock 2\n",
        "            window                    : The size of the datapoints from which we calculate the mean and standard deviation for each time \n",
        "            MAX_SHORTING_AMOUNT       : The maximum amount of money , for which the stocks can be shorted at a time\n",
        "            MAX_TRANSACTION_AT_A_TIME : the number of times we can short a stock , in each shorting we do the shorting worth  MAX_SHORTING_AMOUNT/MAX_TRANSACTION_AT_A_TIME\n",
        "            c1                        : A constant with usage stated above \n",
        "            c2                        : A constant with usage stated above\n",
        "        Return:\n",
        "            The profit which we can make by using this method\n",
        "    \"\"\"\n",
        " \n",
        "    \n",
        "    # Compute rolling mean and rolling standard deviation\n",
        "    ratios = S1/S2\n",
        "    ma = ratios.rolling(window=window,\n",
        "                               center=False).mean()\n",
        "   \n",
        "    std = ratios.rolling(window=window,\n",
        "                        center=False).std()\n",
        "    \n",
        "    # Simulate trading\n",
        "    # Start with no money and no positions\n",
        "    money=0\n",
        "    countS1 = 0\n",
        "    countS2 = 0\n",
        "    num_of_trans = 0\n",
        "    for i in range(window-1,len(ratios)-1):\n",
        "        # Sell short if the z-score is > 1\n",
        "        if ratios[i] > (ma[i]+c1*std[i]) and num_of_trans <= MAX_TRANSACTION_AT_A_TIME :\n",
        "            num_of_trans +=1\n",
        "            amount = MAX_SHORTING_AMOUNT/MAX_TRANSACTION_AT_A_TIME\n",
        "            countS1 -= amount/S1[i] \n",
        "            countS2 += amount/S2[i]\n",
        "        elif ratios[i] < (ma[i] - c1*std[i]) and num_of_trans <= MAX_TRANSACTION_AT_A_TIME :  # ma[i]-c1*std[i]   ma-c2 <x<ma+c2*std\n",
        "            num_of_trans +=1\n",
        "            amount = MAX_SHORTING_AMOUNT/MAX_TRANSACTION_AT_A_TIME\n",
        "            countS1 += amount/S1[i] \n",
        "            countS2 -= amount/S2[i]\n",
        "        elif ratios[i] <= ma[i]+c2*std[i] and ratios[i] >= ma[i]-c2*std[i]:\n",
        "            money += S1[i] * countS1 + S2[i] * countS2\n",
        "            countS1 = 0\n",
        "            countS2 = 0\n",
        "            num_of_trans = 0\n",
        "        \n",
        "    #Squaring off all transactions\n",
        "    money += S1[len(ratios)-1] * countS1 + S2[len(ratios)-1] * countS2\n",
        "\n",
        "            \n",
        "    return money\n",
        "    "
      ],
      "execution_count": null,
      "outputs": []
    },
    {
      "cell_type": "code",
      "metadata": {
        "id": "27exIrTD9B5a"
      },
      "source": [
        "def trade2(S1, S2, window ,MAX_SHORTING_AMOUNT=10000, MAX_TRANSACTION_AT_A_TIME=5,c1=1,c2=0.75):\n",
        "    \"\"\"\n",
        "        This functions performs the trading according to the following strategy\n",
        "            For the distance approach , we will use the mean and standard deviation . If the distance(Y-X) between the time series at any point becomes such that it is greater \n",
        "            than the mean+c_1*standard deviation  we will short the stock Y and go for long X and square off whenever the distance becomes less than   mean+ c_2*standard deviation, \n",
        "            where c1 and c2 are constant here ,  like c_1=1, c_1=0.5 ,etc. Note c_1>c_2 If the distance becomes less than the mean - c1*standard deviation , we will follow the reverse strategy .\n",
        "        Params: \n",
        "            data1                     : Time series data of stock 1\n",
        "            data2                     : Time series data of stock 2\n",
        "            window                    : The size of the datapoints from which we calculate the mean and standard deviation for each time \n",
        "            MAX_SHORTING_AMOUNT       : The maximum amount of money , for which the stocks can be shorted at a time\n",
        "            MAX_TRANSACTION_AT_A_TIME : the number of times we can short a stock , in each shorting we do the shorting worth  MAX_SHORTING_AMOUNT/MAX_TRANSACTION_AT_A_TIME\n",
        "            c1                        : A constant with usage stated above \n",
        "            c2                        : A constant with usage stated above\n",
        "        Return:\n",
        "            The profit which we can make by using this method\n",
        "    \"\"\"\n",
        "     # Compute rolling mean and rolling standard deviation\n",
        "    S1 = normalize(S1)\n",
        "    S2 = normalize(S2)\n",
        "    diff = S1 - S2\n",
        "    ma = diff.rolling(window=window,\n",
        "                               center=False).mean()\n",
        "   \n",
        "    std = diff.rolling(window=window,\n",
        "                        center=False).std()\n",
        "    \n",
        "    # Simulate trading\n",
        "    # Start with no money and no positions\n",
        "    money=0\n",
        "    countS1 = 0\n",
        "    countS2 = 0\n",
        "    num_of_trans = 0\n",
        "    for i in range(window-1,len(diff)-1):\n",
        "        # Sell short if the z-score is > 1\n",
        "        if diff[i] > (ma[i]+c1*std[i]) and num_of_trans <= MAX_TRANSACTION_AT_A_TIME :\n",
        "            num_of_trans +=1\n",
        "            amount = MAX_SHORTING_AMOUNT/MAX_TRANSACTION_AT_A_TIME\n",
        "            countS1 -= amount/S1[i] \n",
        "            countS2 += amount/S2[i]\n",
        "        elif diff[i] < (ma[i] - c1*std[i]) and num_of_trans <= MAX_TRANSACTION_AT_A_TIME :  \n",
        "            num_of_trans +=1\n",
        "            amount = MAX_SHORTING_AMOUNT/MAX_TRANSACTION_AT_A_TIME\n",
        "            countS1 += amount/S1[i] \n",
        "            countS2 -= amount/S2[i]\n",
        "        elif diff[i] <= ma[i]+c2*std[i] and diff[i] >= ma[i]-c2*std[i]:\n",
        "            money += S1[i] * countS1 + S2[i] * countS2\n",
        "            countS1 = 0\n",
        "            countS2 = 0\n",
        "            num_of_trans = 0\n",
        "\n",
        "\n",
        "    #Squaring off all transactions\n",
        "\n",
        "    money += S1[len(S1)-1] * countS1 + S2[len(S2)-1] * countS2\n",
        "\n",
        "            \n",
        "    return money"
      ],
      "execution_count": null,
      "outputs": []
    },
    {
      "cell_type": "code",
      "metadata": {
        "id": "ta-I72cX1fmq"
      },
      "source": [
        "def trade3(S1, S2,window, MAX_SHORTING_AMOUNT = 10000, MAX_TRANSACTION_AT_A_TIME=5,error_bound1=0.1,error_bound2=0.05):\n",
        "    \"\"\"\n",
        "        This functions performs the trading according to the following strategy\n",
        "            For the cointegration approach , we will use the fit a line and then calculate the errors . If the error ratio(Y/X) between the time series at any point becomes such that it is greater \n",
        "            than the error_bound1 (the error is calculated by fitting a line to the ratios data over the last <window> days) we will short the stock Y and go for long X and square off whenever the ratio\n",
        "            becomes less than error_bound2 .If the ratio becomes less than the -1*error_bound1 , we will follow the reverse strategy .\n",
        "        Params: \n",
        "            data1                     : Time series data of stock 1\n",
        "            data2                     : Time series data of stock 2\n",
        "            window                    : The size of the datapoints for which we fit a line and calculate the eror \n",
        "            MAX_SHORTING_AMOUNT       : The maximum amount of money , for which the stocks can be shorted at a time\n",
        "            MAX_TRANSACTION_AT_A_TIME : the number of times we can short a stock , in each shorting we do the shorting worth  MAX_SHORTING_AMOUNT/MAX_TRANSACTION_AT_A_TIME\n",
        "            error_bound1              : A constant with usage stated above \n",
        "            error_bound2              : A constant with usage stated above\n",
        "        Return:\n",
        "            The profit which we can make by using this method\n",
        "    \"\"\"\n",
        "\n",
        "    ratios = S1/S2\n",
        "    money = 0\n",
        "    countS1=0\n",
        "    countS2=0\n",
        "    num_of_trans=0\n",
        "    for i in range(len(ratios)-window-1):\n",
        "      Y = ratios[i:i+window]\n",
        "      X = np.array(range(i+1,window+i+1))\n",
        "      X = X.reshape(-1,1)\n",
        "      model = LinearRegression().fit(X,Y)\n",
        "      y_pred = model.predict([[ratios[i+window]]])\n",
        "      error = ratios[i+window] - y_pred\n",
        "      if error > error_bound1 and num_of_trans <= MAX_TRANSACTION_AT_A_TIME :\n",
        "        amount = MAX_SHORTING_AMOUNT/MAX_TRANSACTION_AT_A_TIME\n",
        "        num_of_trans+=1\n",
        "        countS1 -= amount/S1[i+window]\n",
        "        countS2 += amount/S2[i+window]\n",
        "      elif error < -error_bound1 and num_of_trans <= MAX_TRANSACTION_AT_A_TIME:\n",
        "        amount = MAX_SHORTING_AMOUNT/MAX_TRANSACTION_AT_A_TIME\n",
        "        num_of_trans+=1\n",
        "        countS1 += amount/S1[i+window]\n",
        "        countS2 -= amount/S2[i+window]\n",
        "\n",
        "      elif error > -error_bound2 and error < error_bound2 :\n",
        "        money += S1[i+window] * countS1 + S2[i+window] * countS2\n",
        "        countS1 = 0\n",
        "        countS2 = 0\n",
        "        num_of_trans = 0\n",
        "    #Squaring off all transactions\n",
        "    money += S1[len(ratios)-1] * countS1 + S2[len(ratios)-1] * countS2\n",
        "\n",
        "    return money\n",
        "    \n"
      ],
      "execution_count": null,
      "outputs": []
    },
    {
      "cell_type": "code",
      "metadata": {
        "id": "dmaDbYwk9OGj"
      },
      "source": [
        "def trade4(S1, S2, window1=5, window2=60,MAX_SHORTING_AMOUNT=10000, MAX_TRANSACTION_AT_A_TIME=5,c1=1,c2=0.75):\n",
        "    \"\"\"\n",
        "        This functions performs the trading according to the following strategy\n",
        "            For the cointegration approach, we will use the moving averages to calculate the transactions to be done.\n",
        "            First of all we calculate the moving average on window size of window1 and window2 and the moving standard deviation for window size of window2 for the ratio(Y/X) of stocks.\n",
        "            Also we assume window1<window2\n",
        "            Now when moving_average_window1 > moving_average_window2 + c1 * standard_deviation_window2 , we then short the stock Y and go for long on stock X and we would square off when\n",
        "            moving_average_window1 < moving_average_window2 - c2 * standard_deviation_window2.  \n",
        "            Reverse strategy happens when moving_average_window1 < moving_average_window2 - c1 * standard_deviation_window2\n",
        "        Params:\n",
        "            data1                     : Time series data of stock 1\n",
        "            data2                     : Time series data of stock 2\n",
        "            window1                   : The size of the data points from which we calculate the moving averages. This will be the less number of days moving average\n",
        "            window1                   : The size of the data points from which we calculate the moving averages. This will be the more number of days moving average\n",
        "            MAX_SHORTING_AMOUNT       : The maximum amount of money , for which the stocks can be shorted at a time\n",
        "            MAX_TRANSACTION_AT_A_TIME : the number of times we can short a stock , in each shorting we do the shorting worth  MAX_SHORTING_AMOUNT/MAX_TRANSACTION_AT_A_TIME\n",
        "    \"\"\"\n",
        "     # Compute rolling mean and rolling standard deviation\n",
        "    ratios = S1/S2\n",
        "    ma1 = ratios.rolling(window=window1,center=False).mean()\n",
        "    ma2 = ratios.rolling(window=window2,center=False).mean()\n",
        "   \n",
        "    std2 = ratios.rolling(window=window2,\n",
        "                        center=False).std()\n",
        "    \n",
        "    # Simulate trading\n",
        "    # Start with no money and no positions\n",
        "    money=0\n",
        "    countS1 = 0\n",
        "    countS2 = 0\n",
        "    num_of_trans = 0\n",
        "    for i in range(window2-1,len(ratios)):\n",
        "        if ma1[i] > (ma2[i]+c1*std2[i]) and num_of_trans <= MAX_TRANSACTION_AT_A_TIME :\n",
        "            num_of_trans +=1\n",
        "            amount = MAX_SHORTING_AMOUNT/MAX_TRANSACTION_AT_A_TIME\n",
        "            countS1 -= amount/S1[i] \n",
        "            countS2 += amount/S2[i]\n",
        "        elif ma1[i] < (ma2[i] - c1*std2[i]) and num_of_trans <= MAX_TRANSACTION_AT_A_TIME :  \n",
        "            num_of_trans +=1\n",
        "            amount = MAX_SHORTING_AMOUNT/MAX_TRANSACTION_AT_A_TIME\n",
        "            countS1 += amount/S1[i] \n",
        "            countS2 -= amount/S2[i]\n",
        "        elif ma1[i] <= ma2[i]+c2*std2[i] and ma1[i] >= ma2[i]-c2*std2[i]:\n",
        "            money += S1[i] * countS1 + S2[i] * countS2\n",
        "            countS1 = 0\n",
        "            countS2 = 0\n",
        "            num_of_trans = 0\n",
        "\n",
        "    #Squaring off all transactions\n",
        "    money += S1[len(ratios)-1] * countS1 + S2[len(ratios)-1] * countS2\n",
        "\n",
        "    return money\n"
      ],
      "execution_count": null,
      "outputs": []
    },
    {
      "cell_type": "code",
      "metadata": {
        "id": "CB0zvNV-ZbDs"
      },
      "source": [
        "def findCointegrationValue(data,p_value_threshold=0.05):\n",
        "    \"\"\"\n",
        "        This function find out the pairs of stock with p value less than a constant\n",
        "        Params:\n",
        "            data               : the dataframe containning all the close for of each stock on each open market day\n",
        "            p_value_threshold  : the threshold value for the p value of pairs of stocks. We consider a 2 stocks to be cointegrted only if the p value is less than this value\n",
        "\n",
        "        Returns:\n",
        "            p values of all the pairs , the list of all the pairs with p value less than the threshold \n",
        "    \"\"\"\n",
        "    n = data.shape[1]\n",
        "    p_values_matrix = np.ones((n,n));\n",
        "    keys = data.keys();\n",
        "    pairs = []\n",
        "    for i in range(n):\n",
        "      for j in range(i+1,n):\n",
        "        S1 = data[keys[i]]\n",
        "        S2 = data[keys[j]]\n",
        "        result = coint(S1,S2)\n",
        "        score = result[0]\n",
        "        pvalue = result[1]\n",
        "        p_values_matrix[i,j]=pvalue\n",
        "        if(pvalue < p_value_threshold):\n",
        "          pairs.append(((i,j),pvalue))\n",
        "        \n",
        "    return p_values_matrix,pairs"
      ],
      "execution_count": null,
      "outputs": []
    },
    {
      "cell_type": "code",
      "metadata": {
        "id": "ItqDo_BfZreo"
      },
      "source": [
        "def zscore(series):\n",
        "    newSeries = series.copy()\n",
        "    for i in range(len(newSeries)):\n",
        "        x = (newSeries[i] - newSeries[:i+1].mean()) / np.std(newSeries[:i+1])\n",
        "        series[i]= x\n",
        "    return series"
      ],
      "execution_count": null,
      "outputs": []
    },
    {
      "cell_type": "code",
      "metadata": {
        "id": "Vznqkl41Qyog"
      },
      "source": [
        "def compare(x,y):\n",
        "  return x[1]-y[1]"
      ],
      "execution_count": null,
      "outputs": []
    },
    {
      "cell_type": "code",
      "metadata": {
        "id": "jTx4yFszQ0Uk"
      },
      "source": [
        "def getBestKCointergratedStocks(data,k=10,p_value_threshold=0.05):\n",
        "    \"\"\"\n",
        "        This functions find out the k pairs with the least p value and all of them should be less than the threshold  \n",
        "        Params:\n",
        "            data               : the dataframe containning all the close for of each stock on each open market day\n",
        "            k                  : the number of pairs to be found out\n",
        "            p_value_threshold  : the threshold value for the p value of pairs of stocks. We consider a 2 stocks to be cointegrted only if the p value is less than this value\n",
        "\n",
        "        Returns:\n",
        "            the p value for all the pairs of stocks , the list k pairs with the least p value and their p values . If k such pairs doesn't exists return how many of them occur \n",
        "    \"\"\"\n",
        "    p_values_matrix, pairs = findCointegrationValue(data)\n",
        "    tem=sorted(pairs,key=cmp_to_key(compare))\n",
        "    if len(tem) < k:\n",
        "      return p_values_matrix,tem\n",
        "    return p_values_matrix,tem[0:k]\n",
        "   "
      ],
      "execution_count": null,
      "outputs": []
    },
    {
      "cell_type": "code",
      "metadata": {
        "id": "_5wXnwokQ1tO"
      },
      "source": [
        "def normalize(series):\n",
        "  return series-series.min()/(series.max()-series.min())"
      ],
      "execution_count": null,
      "outputs": []
    },
    {
      "cell_type": "code",
      "metadata": {
        "id": "etdIDbP9Q28n"
      },
      "source": [
        "def distanceBetweenStocks(data1,data2,window_size):\n",
        "    \"\"\"\n",
        "        This function takes list of two stocks and find the distance between the stocks \n",
        "        Params:\n",
        "            data1: list of stock price of stock1\n",
        "            data2: list of stock price of stock2\n",
        "            window_size : the window size\n",
        "        Returns:\n",
        "            the distance between the lists\n",
        "\n",
        "        Note:\n",
        "            In this function do try to normalise the stock price and try out some variations in it.\n",
        "    \"\"\"\n",
        "    data1 = normalize(data1)\n",
        "    data2 = normalize(data2)\n",
        "    distance=0 \n",
        "    for i in range(len(data1)):\n",
        "      distance += (data1[i] - data2[i])**2\n",
        "    \n",
        "    return distance\n"
      ],
      "execution_count": null,
      "outputs": []
    },
    {
      "cell_type": "code",
      "metadata": {
        "id": "q3BizYpBQ4r1"
      },
      "source": [
        "def getBestKLessDistanceStocks(data,k=10):\n",
        "    \"\"\"\n",
        "        This functions find out the k pairs with the least distance between them  \n",
        "        Params:\n",
        "            data               : the dataframe containning all the close for of each stock on each open market day\n",
        "            k                  : the number of pairs to be found out\n",
        "            \n",
        "        Returns:\n",
        "            the distance between all the stock pairs, the list of k pairs with the least distance between them\n",
        "    \"\"\"\n",
        "    n = data.shape[1]\n",
        "    keys=data.keys();\n",
        "    pairs=[]\n",
        "    _distance=np.ones((n,n))\n",
        "    for i in range(n):\n",
        "      for j in range (i+1,n):\n",
        "        d1=data[keys[i]]\n",
        "        d2=data[keys[j]]\n",
        "        ans=distanceBetweenStocks(d1,d2,100)\n",
        "        _distance[i][j]=ans\n",
        "        pairs.append(((i,j),ans))\n",
        "    \n",
        "    pairs.sort(key=cmp_to_key(compare))\n",
        "    if(len(pairs)<k):\n",
        "      return _distance,pairs\n",
        "    return _distance,pairs[0:k]"
      ],
      "execution_count": null,
      "outputs": []
    },
    {
      "cell_type": "code",
      "metadata": {
        "id": "nlB47npqYCpU"
      },
      "source": [
        "_,distance_pair = getBestKLessDistanceStocks(data,1)"
      ],
      "execution_count": null,
      "outputs": []
    },
    {
      "cell_type": "code",
      "metadata": {
        "id": "4_1rNthwQ6Eu"
      },
      "source": [
        "_, cointegrated_pair = getBestKCointergratedStocks(data,1)\n",
        "keys  = data.keys()"
      ],
      "execution_count": null,
      "outputs": []
    },
    {
      "cell_type": "code",
      "metadata": {
        "colab": {
          "base_uri": "https://localhost:8080/"
        },
        "id": "0QGBX6_JUcTm",
        "outputId": "206f9c88-ad18-4dc8-ae5b-ccec8c1d108a"
      },
      "source": [
        "distance_pair"
      ],
      "execution_count": null,
      "outputs": [
        {
          "output_type": "execute_result",
          "data": {
            "text/plain": [
              "[((10, 24), 5306.63413400654)]"
            ]
          },
          "metadata": {
            "tags": []
          },
          "execution_count": 139
        }
      ]
    },
    {
      "cell_type": "code",
      "metadata": {
        "colab": {
          "base_uri": "https://localhost:8080/"
        },
        "id": "ZWXtHabHVEBj",
        "outputId": "97600d9f-8586-46e8-8484-ab1c63827a5d"
      },
      "source": [
        "cointegrated_pair"
      ],
      "execution_count": null,
      "outputs": [
        {
          "output_type": "execute_result",
          "data": {
            "text/plain": [
              "[((6, 28), 0.00217013760574349)]"
            ]
          },
          "metadata": {
            "tags": []
          },
          "execution_count": 140
        }
      ]
    },
    {
      "cell_type": "code",
      "metadata": {
        "colab": {
          "base_uri": "https://localhost:8080/"
        },
        "id": "xVdz4SVvVFlM",
        "outputId": "d2fd0741-e92c-4fdc-8933-74bdcfc54c42"
      },
      "source": [
        "distance_cmp1 = keys[distance_pair[0][0][0]]\n",
        "distance_cmp2 = keys[distance_pair[0][0][1]]\n",
        "\n",
        "print(f\"Pairs with least Euclidean distance are {distance_cmp1} and {distance_cmp2}.\")"
      ],
      "execution_count": null,
      "outputs": [
        {
          "output_type": "stream",
          "text": [
            "Pairs with least Euclidean distance are GE and PFE.\n"
          ],
          "name": "stdout"
        }
      ]
    },
    {
      "cell_type": "code",
      "metadata": {
        "colab": {
          "base_uri": "https://localhost:8080/"
        },
        "id": "Rv_wfPBXVnKL",
        "outputId": "d86ec7b8-114d-4a56-c644-e48dfdf57cbe"
      },
      "source": [
        "coint_cmp1 = keys[cointegrated_pair[0][0][0]]\n",
        "coint_cmp2 = keys[cointegrated_pair[0][0][1]]\n",
        "print(f\"Pairs showing the highest cointegration are {coint_cmp1} and {coint_cmp2}.\")"
      ],
      "execution_count": null,
      "outputs": [
        {
          "output_type": "stream",
          "text": [
            "Pairs showing the highest cointegration are CSCO and TRV.\n"
          ],
          "name": "stdout"
        }
      ]
    },
    {
      "cell_type": "code",
      "metadata": {
        "colab": {
          "base_uri": "https://localhost:8080/",
          "height": 353
        },
        "id": "mGsZLrTdWF1y",
        "outputId": "c2638c74-3d5e-4e9e-d679-ddaca52e6857"
      },
      "source": [
        "S1=keys[distance_pair[0][0][0]]\n",
        "S2=keys[distance_pair[0][0][1]]\n",
        "ratios = data[S1]/data[S2]\n",
        "zscore(ratios).plot()\n",
        "plt.axhline(zscore(ratios).mean(),color=\"yellow\")\n",
        "plt.axhline(0.5, color=\"red\")\n",
        "plt.axhline(-0.05, color=\"green\")\n",
        "plt.show()\n",
        "print(S1,S2)"
      ],
      "execution_count": null,
      "outputs": [
        {
          "output_type": "stream",
          "text": [
            "/usr/local/lib/python3.7/dist-packages/ipykernel_launcher.py:4: RuntimeWarning: invalid value encountered in double_scalars\n",
            "  after removing the cwd from sys.path.\n",
            "/usr/local/lib/python3.7/dist-packages/ipykernel_launcher.py:4: RuntimeWarning: invalid value encountered in double_scalars\n",
            "  after removing the cwd from sys.path.\n"
          ],
          "name": "stderr"
        },
        {
          "output_type": "display_data",
          "data": {
            "image/png": "[encoded data removed]",
            "text/plain": [
              "<Figure size 432x288 with 1 Axes>"
            ]
          },
          "metadata": {
            "tags": [],
            "needs_background": "light"
          }
        },
        {
          "output_type": "stream",
          "text": [
            "GE PFE\n"
          ],
          "name": "stdout"
        }
      ]
    },
    {
      "cell_type": "code",
      "metadata": {
        "id": "-08cJTXLWqvQ",
        "colab": {
          "base_uri": "https://localhost:8080/",
          "height": 353
        },
        "outputId": "b2204d7d-45e1-46c2-8060-bdf205ccc867"
      },
      "source": [
        "S1=keys[cointegrated_pair[0][0][0]]\n",
        "S2=keys[cointegrated_pair[0][0][1]]\n",
        "ratios = data[S1]/data[S2]\n",
        "zscore(ratios).plot()\n",
        "plt.axhline(zscore(ratios).mean(),color=\"yellow\")\n",
        "plt.axhline(0.5, color=\"red\")\n",
        "plt.axhline(-0.05, color=\"green\")\n",
        "plt.show()\n",
        "print(S1,S2)"
      ],
      "execution_count": null,
      "outputs": [
        {
          "output_type": "stream",
          "text": [
            "/usr/local/lib/python3.7/dist-packages/ipykernel_launcher.py:4: RuntimeWarning: invalid value encountered in double_scalars\n",
            "  after removing the cwd from sys.path.\n",
            "/usr/local/lib/python3.7/dist-packages/ipykernel_launcher.py:4: RuntimeWarning: invalid value encountered in double_scalars\n",
            "  after removing the cwd from sys.path.\n"
          ],
          "name": "stderr"
        },
        {
          "output_type": "display_data",
          "data": {
            "image/png": "[encoded data removed]",
            "text/plain": [
              "<Figure size 432x288 with 1 Axes>"
            ]
          },
          "metadata": {
            "tags": [],
            "needs_background": "light"
          }
        },
        {
          "output_type": "stream",
          "text": [
            "CSCO TRV\n"
          ],
          "name": "stdout"
        }
      ]
    },
    {
      "cell_type": "markdown",
      "metadata": {
        "id": "93VLjWAAw2XR"
      },
      "source": [
        "#Trading Period\n",
        "\n",
        "We used the stock price data of 6 years from 2011-2017 to form the pairs. Now we will trade them using the above strategies for stock price data from the year 2017 to 2019."
      ]
    },
    {
      "cell_type": "code",
      "metadata": {
        "colab": {
          "base_uri": "https://localhost:8080/"
        },
        "id": "14b7Bq-Aii-8",
        "outputId": "7c1a6487-e702-4a76-ca6a-5127b4b48220"
      },
      "source": [
        "distance_tickers = ['GE','PFE']\n",
        "cointegraed_tickers = ['CSCO','TRV']\n",
        "start = datetime.datetime(2017,1,1)\n",
        "end = datetime.datetime(2019,1,1)\n",
        "recent_distance_data = downloadStockData(distance_tickers,start,end)\n",
        "recent_cointegrated_data = downloadStockData(cointegraed_tickers,start,end)"
      ],
      "execution_count": null,
      "outputs": [
        {
          "output_type": "stream",
          "text": [
            "[*********************100%***********************]  2 of 2 completed\n",
            "[*********************100%***********************]  2 of 2 completed\n"
          ],
          "name": "stdout"
        }
      ]
    },
    {
      "cell_type": "markdown",
      "metadata": {
        "id": "s-HsW7KjlLKu"
      },
      "source": [
        "Results of various trading strategies for two approaches are as follows:"
      ]
    },
    {
      "cell_type": "markdown",
      "metadata": {
        "id": "M0D7t72yxJ5U"
      },
      "source": [
        "### Distance Approach"
      ]
    },
    {
      "cell_type": "code",
      "metadata": {
        "colab": {
          "base_uri": "https://localhost:8080/"
        },
        "id": "_ag5OwlvjvqW",
        "outputId": "6b91384c-4816-482a-9583-b4af13a97292"
      },
      "source": [
        "print(\"Net gain/loss: \",trade1(recent_distance_data['GE'],recent_distance_data['PFE'],10))"
      ],
      "execution_count": null,
      "outputs": [
        {
          "output_type": "stream",
          "text": [
            "Net gain/loss:  -2128.825786516014\n"
          ],
          "name": "stdout"
        }
      ]
    },
    {
      "cell_type": "code",
      "metadata": {
        "colab": {
          "base_uri": "https://localhost:8080/"
        },
        "id": "xFZoFZHFj-FM",
        "outputId": "8f003725-4771-4750-de33-0c0fd2382812"
      },
      "source": [
        "print(\"Net gain/loss: \",trade2(recent_distance_data['GE'],recent_distance_data['PFE'],10))"
      ],
      "execution_count": null,
      "outputs": [
        {
          "output_type": "stream",
          "text": [
            "0 0\n",
            "Net gain/loss:  -309.91136686383174\n"
          ],
          "name": "stdout"
        }
      ]
    },
    {
      "cell_type": "markdown",
      "metadata": {
        "id": "-QlCj8fcxNVE"
      },
      "source": [
        "### Cointegrated Approach"
      ]
    },
    {
      "cell_type": "code",
      "metadata": {
        "colab": {
          "base_uri": "https://localhost:8080/"
        },
        "id": "urFoJKUSkJcn",
        "outputId": "454556b5-e637-426a-a88a-4e1d558c09cb"
      },
      "source": [
        "print(\"Net gain/loss: \",trade3(recent_cointegrated_data['CSCO'],recent_cointegrated_data['TRV'],10))"
      ],
      "execution_count": null,
      "outputs": [
        {
          "output_type": "stream",
          "text": [
            "Net gain/loss:  1315.1256137450114\n"
          ],
          "name": "stdout"
        }
      ]
    },
    {
      "cell_type": "code",
      "metadata": {
        "colab": {
          "base_uri": "https://localhost:8080/"
        },
        "id": "_Q9wsd-HkfxT",
        "outputId": "fa0d7caf-1f36-4636-d050-ef77bced7996"
      },
      "source": [
        "print(\"Net gain/loss: \",trade4(recent_cointegrated_data['CSCO'],recent_cointegrated_data['TRV']))"
      ],
      "execution_count": null,
      "outputs": [
        {
          "output_type": "stream",
          "text": [
            "Net gain/loss:  2461.723599962202\n"
          ],
          "name": "stdout"
        }
      ]
    },
    {
      "cell_type": "code",
      "metadata": {
        "id": "TcGPpRvzkyHN"
      },
      "source": [
        ""
      ],
      "execution_count": null,
      "outputs": []
    }
  ]
}